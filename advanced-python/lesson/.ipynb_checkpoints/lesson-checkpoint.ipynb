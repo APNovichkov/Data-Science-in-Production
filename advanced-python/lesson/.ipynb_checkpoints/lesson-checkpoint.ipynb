{
 "cells": [
  {
   "cell_type": "markdown",
   "metadata": {},
   "source": [
    "## Generators"
   ]
  },
  {
   "cell_type": "code",
   "execution_count": 5,
   "metadata": {},
   "outputs": [
    {
     "name": "stdout",
     "output_type": "stream",
     "text": [
      "First iteration:\n",
      "1\n",
      "4\n",
      "8\n",
      "14\n",
      "Second iteration:\n"
     ]
    }
   ],
   "source": [
    "def generator_example(ls):\n",
    "    s = 0\n",
    "    for i in ls:\n",
    "        s += i\n",
    "        yield s\n",
    "        \n",
    "G = generator_example([1,3,4,6])\n",
    "\n",
    "print(\"First iteration:\")\n",
    "for item in G:\n",
    "    print(item)\n",
    "\n",
    "print(\"Second iteration:\")\n",
    "for item in G:\n",
    "    print(item)"
   ]
  },
  {
   "cell_type": "code",
   "execution_count": 6,
   "metadata": {},
   "outputs": [],
   "source": [
    "ls = iter([1,2,3,4])"
   ]
  },
  {
   "cell_type": "code",
   "execution_count": 7,
   "metadata": {},
   "outputs": [
    {
     "data": {
      "text/plain": [
       "1"
      ]
     },
     "execution_count": 7,
     "metadata": {},
     "output_type": "execute_result"
    }
   ],
   "source": [
    "print(next(ls))\n",
    "print(next(ls))\n",
    "print(next(ls))\n",
    "print(next(ls))\n",
    "print(next(ls))"
   ]
  },
  {
   "cell_type": "code",
   "execution_count": null,
   "metadata": {},
   "outputs": [],
   "source": []
  }
 ],
 "metadata": {
  "kernelspec": {
   "display_name": "Python 3",
   "language": "python",
   "name": "python3"
  },
  "language_info": {
   "codemirror_mode": {
    "name": "ipython",
    "version": 3
   },
   "file_extension": ".py",
   "mimetype": "text/x-python",
   "name": "python",
   "nbconvert_exporter": "python",
   "pygments_lexer": "ipython3",
   "version": "3.7.6"
  }
 },
 "nbformat": 4,
 "nbformat_minor": 4
}
