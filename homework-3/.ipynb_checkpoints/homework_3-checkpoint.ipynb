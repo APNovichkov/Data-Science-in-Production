{
 "cells": [
  {
   "cell_type": "markdown",
   "metadata": {},
   "source": [
    "# Homework 3\n",
    "## Andrey Novichkov \n",
    "\n",
    "**Goal:** Analyze the titanic dataset using pyspark"
   ]
  },
  {
   "cell_type": "code",
   "execution_count": 1,
   "metadata": {},
   "outputs": [],
   "source": [
    "# Imports\n",
    "from pyspark import SparkContext\n",
    "from pyspark.sql import SparkSession\n",
    "\n",
    "import pandas as pd\n",
    "import numpy as np\n",
    "import matplotlib.pyplot as plt"
   ]
  },
  {
   "cell_type": "markdown",
   "metadata": {},
   "source": [
    "### Start Spark Context and Spark Session"
   ]
  },
  {
   "cell_type": "code",
   "execution_count": 2,
   "metadata": {},
   "outputs": [],
   "source": [
    "sc = SparkContext()\n",
    "ss = SparkSession \\\n",
    "   .builder \\\n",
    "   .appName(\"Python Spark Titanic Dataset Analysis\") \\\n",
    "   .config(\"spark.some.config.option\", \"some-value\") \\\n",
    "   .getOrCreate()"
   ]
  },
  {
   "cell_type": "markdown",
   "metadata": {},
   "source": [
    "### Turn input file into spark dataframe"
   ]
  },
  {
   "cell_type": "code",
   "execution_count": 3,
   "metadata": {},
   "outputs": [],
   "source": [
    "filepath = \"titanic.csv\"\n",
    "df = ss.read.csv(filepath, header=True, inferSchema=True)"
   ]
  },
  {
   "cell_type": "code",
   "execution_count": 4,
   "metadata": {},
   "outputs": [
    {
     "name": "stdout",
     "output_type": "stream",
     "text": [
      "+-----------+--------+------+--------------------+------+----+-----+-----+---------+-------+-----+--------+\n",
      "|PassengerId|Survived|Pclass|                Name|   Sex| Age|SibSp|Parch|   Ticket|   Fare|Cabin|Embarked|\n",
      "+-----------+--------+------+--------------------+------+----+-----+-----+---------+-------+-----+--------+\n",
      "|          1|       0|     3|Braund, Mr. Owen ...|  male|22.0|    1|    0|A/5 21171|   7.25| null|       S|\n",
      "|          2|       1|     1|Cumings, Mrs. Joh...|female|38.0|    1|    0| PC 17599|71.2833|  C85|       C|\n",
      "+-----------+--------+------+--------------------+------+----+-----+-----+---------+-------+-----+--------+\n",
      "only showing top 2 rows\n",
      "\n"
     ]
    }
   ],
   "source": [
    "df.show(2)"
   ]
  },
  {
   "cell_type": "markdown",
   "metadata": {},
   "source": [
    "### Do some general analysis"
   ]
  },
  {
   "cell_type": "code",
   "execution_count": 7,
   "metadata": {},
   "outputs": [
    {
     "name": "stdout",
     "output_type": "stream",
     "text": [
      "Number of passengers in dataset: 891\n"
     ]
    }
   ],
   "source": [
    "# Get number of passengers\n",
    "print(f\"Number of passengers in dataset: {df.count()}\")"
   ]
  },
  {
   "cell_type": "code",
   "execution_count": 16,
   "metadata": {},
   "outputs": [
    {
     "name": "stdout",
     "output_type": "stream",
     "text": [
      "Survival Statistics:\n",
      "Survived -> 342\n",
      "Died -> 549\n",
      "% survived -> 0.38%\n",
      "% died -> 0.62%\n"
     ]
    }
   ],
   "source": [
    "# Get number of survived/died\n",
    "survived = df.filter(df.Survived == 1)\n",
    "died = df.filter(df.Survived == 0)\n",
    "\n",
    "print(\"Survival Statistics:\")\n",
    "print(f\"Survived -> {survived.count()}\")\n",
    "print(f\"Died -> {died.count()}\")\n",
    "print(f\"% survived -> {round(survived.count()/df.count(), 2)}%\")\n",
    "print(f\"% died -> {round(died.count()/df.count(), 2)}%\")"
   ]
  },
  {
   "cell_type": "code",
   "execution_count": 29,
   "metadata": {},
   "outputs": [
    {
     "name": "stdout",
     "output_type": "stream",
     "text": [
      "Age statistics for all pasengers:\n",
      "+-----------------+--------+--------+\n",
      "|         avg(Age)|min(Age)|max(Age)|\n",
      "+-----------------+--------+--------+\n",
      "|29.69911764705882|    0.42|    80.0|\n",
      "+-----------------+--------+--------+\n",
      "\n",
      "Age statistics for pasengers who survived:\n",
      "+------------------+--------+--------+\n",
      "|          avg(Age)|min(Age)|max(Age)|\n",
      "+------------------+--------+--------+\n",
      "|28.343689655172415|    0.42|    80.0|\n",
      "+------------------+--------+--------+\n",
      "\n",
      "Age statistics for pasengers who died:\n",
      "+-----------------+--------+--------+\n",
      "|         avg(Age)|min(Age)|max(Age)|\n",
      "+-----------------+--------+--------+\n",
      "|30.62617924528302|     1.0|    74.0|\n",
      "+-----------------+--------+--------+\n",
      "\n"
     ]
    }
   ],
   "source": [
    "# Get stats about age of passengers\n",
    "from pyspark.sql.functions import mean, min, max\n",
    "\n",
    "print(\"Age statistics for all pasengers:\")\n",
    "df.select([mean('Age'), min('Age'), max('Age')]).show()\n",
    "\n",
    "print(\"Age statistics for pasengers who survived:\")\n",
    "survived.select([mean('Age'), min('Age'), max('Age')]).show()\n",
    "\n",
    "print(\"Age statistics for pasengers who died:\")\n",
    "died.select([mean('Age'), min('Age'), max('Age')]).show()"
   ]
  },
  {
   "cell_type": "code",
   "execution_count": null,
   "metadata": {},
   "outputs": [],
   "source": [
    "# Sex statistics of people who survived\n",
    "survived_male = survived.filter(survived.Sex == \"male\")\n",
    "survived_female = survived.filter(survived.Sex == \"female\")\n",
    "\n",
    "print(f\"# Survived: {survived.count()}\")\n",
    "print(f\"# Survived: {survived.count()}\")\n",
    "print(f\"# Survived: {survived.count()}\")"
   ]
  }
 ],
 "metadata": {
  "kernelspec": {
   "display_name": "Python 3",
   "language": "python",
   "name": "python3"
  },
  "language_info": {
   "codemirror_mode": {
    "name": "ipython",
    "version": 3
   },
   "file_extension": ".py",
   "mimetype": "text/x-python",
   "name": "python",
   "nbconvert_exporter": "python",
   "pygments_lexer": "ipython3",
   "version": "3.7.6"
  }
 },
 "nbformat": 4,
 "nbformat_minor": 4
}
